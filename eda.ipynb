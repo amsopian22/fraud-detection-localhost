{
 "cells": [
  {
   "cell_type": "code",
   "execution_count": 1,
   "id": "dbe6b972",
   "metadata": {},
   "outputs": [],
   "source": [
    "# --- Skrip untuk Analisis Data Eksploratif (EDA) ---\n",
    "\n",
    "import pandas as pd\n",
    "import matplotlib.pyplot as plt\n",
    "import seaborn as sns\n",
    "from datetime import datetime"
   ]
  },
  {
   "cell_type": "code",
   "execution_count": 2,
   "id": "82c0dc1e",
   "metadata": {},
   "outputs": [
    {
     "name": "stdout",
     "output_type": "stream",
     "text": [
      "Memulai Analisis Data Eksploratif (EDA)...\n"
     ]
    }
   ],
   "source": [
    "# --- Konfigurasi ---\n",
    "# Pastikan file 'train.csv' ada di direktori yang sama dengan skrip ini\n",
    "TRAIN_DATA_PATH = 'data/credit_card_transaction_train.csv'\n",
    "\n",
    "print(\"Memulai Analisis Data Eksploratif (EDA)...\")"
   ]
  },
  {
   "cell_type": "code",
   "execution_count": 3,
   "id": "ebf2adbc",
   "metadata": {},
   "outputs": [
    {
     "name": "stdout",
     "output_type": "stream",
     "text": [
      "Berhasil memuat 1296675 baris data dari 'data/credit_card_transaction_train.csv'.\n"
     ]
    }
   ],
   "source": [
    "# --- 1. Memuat dan Memeriksa Data ---\n",
    "try:\n",
    "    # Menggunakan index_col=0 karena sepertinya ada kolom indeks tanpa nama di data Anda\n",
    "    df = pd.read_csv(TRAIN_DATA_PATH, index_col=0) \n",
    "    print(f\"Berhasil memuat {len(df)} baris data dari '{TRAIN_DATA_PATH}'.\")\n",
    "except FileNotFoundError:\n",
    "    print(f\"ERROR: File '{TRAIN_DATA_PATH}' tidak ditemukan. Mohon periksa kembali lokasi file Anda.\")\n",
    "    exit()"
   ]
  },
  {
   "cell_type": "code",
   "execution_count": 4,
   "id": "c9af718e",
   "metadata": {},
   "outputs": [
    {
     "name": "stdout",
     "output_type": "stream",
     "text": [
      "\n",
      "--- Informasi Dasar Dataset ---\n",
      "<class 'pandas.core.frame.DataFrame'>\n",
      "Index: 1296675 entries, 0 to 1296674\n",
      "Data columns (total 23 columns):\n",
      " #   Column                 Non-Null Count    Dtype         \n",
      "---  ------                 --------------    -----         \n",
      " 0   trans_date_trans_time  1296675 non-null  datetime64[ns]\n",
      " 1   cc_num                 1296675 non-null  int64         \n",
      " 2   merchant               1296675 non-null  object        \n",
      " 3   category               1296675 non-null  object        \n",
      " 4   amt                    1296675 non-null  float64       \n",
      " 5   first                  1296675 non-null  object        \n",
      " 6   last                   1296675 non-null  object        \n",
      " 7   gender                 1296675 non-null  object        \n",
      " 8   street                 1296675 non-null  object        \n",
      " 9   city                   1296675 non-null  object        \n",
      " 10  state                  1296675 non-null  object        \n",
      " 11  zip                    1296675 non-null  int64         \n",
      " 12  lat                    1296675 non-null  float64       \n",
      " 13  long                   1296675 non-null  float64       \n",
      " 14  city_pop               1296675 non-null  int64         \n",
      " 15  job                    1296675 non-null  object        \n",
      " 16  dob                    1296675 non-null  datetime64[ns]\n",
      " 17  trans_num              1296675 non-null  object        \n",
      " 18  unix_time              1296675 non-null  int64         \n",
      " 19  merch_lat              1296675 non-null  float64       \n",
      " 20  merch_long             1296675 non-null  float64       \n",
      " 21  is_fraud               1296675 non-null  int64         \n",
      " 22  merch_zipcode          1100702 non-null  float64       \n",
      "dtypes: datetime64[ns](2), float64(6), int64(5), object(10)\n",
      "memory usage: 237.4+ MB\n",
      "\n",
      "--- Statistik Deskriptif untuk Kolom Numerik ---\n",
      "              amt\n",
      "count  1296675.00\n",
      "mean        70.35\n",
      "std        160.32\n",
      "min          1.00\n",
      "25%          9.65\n",
      "50%         47.52\n",
      "75%         83.14\n",
      "max      28948.90\n"
     ]
    }
   ],
   "source": [
    "# Konversi kolom tanggal\n",
    "df['trans_date_trans_time'] = pd.to_datetime(df['trans_date_trans_time'])\n",
    "df['dob'] = pd.to_datetime(df['dob'])\n",
    "\n",
    "print(\"\\n--- Informasi Dasar Dataset ---\")\n",
    "df.info()\n",
    "\n",
    "print(\"\\n--- Statistik Deskriptif untuk Kolom Numerik ---\")\n",
    "print(df[['amt']].describe().round(2))"
   ]
  },
  {
   "cell_type": "code",
   "execution_count": 5,
   "id": "e3b7ec28",
   "metadata": {},
   "outputs": [
    {
     "name": "stdout",
     "output_type": "stream",
     "text": [
      "\n",
      "--- Distribusi Kelas Penipuan ---\n",
      "is_fraud\n",
      "0    99.421135\n",
      "1     0.578865\n",
      "Name: proportion, dtype: float64\n"
     ]
    },
    {
     "name": "stderr",
     "output_type": "stream",
     "text": [
      "/var/folders/06/s2d9zyf13d1_qwrjxhbq8vmh0000gn/T/ipykernel_12383/2508075385.py:7: FutureWarning: \n",
      "\n",
      "Passing `palette` without assigning `hue` is deprecated and will be removed in v0.14.0. Assign the `x` variable to `hue` and set `legend=False` for the same effect.\n",
      "\n",
      "  sns.countplot(x='is_fraud', data=df, palette=['#3b82f6', '#ef4444'])\n"
     ]
    },
    {
     "data": {
      "image/png": "[encoded data removed]",
      "text/plain": [
       "<Figure size 700x500 with 1 Axes>"
      ]
     },
     "metadata": {},
     "output_type": "display_data"
    }
   ],
   "source": [
    "\n",
    "# --- 2. Analisis Variabel Target ('is_fraud') ---\n",
    "print(\"\\n--- Distribusi Kelas Penipuan ---\")\n",
    "fraud_distribution = df['is_fraud'].value_counts(normalize=True) * 100\n",
    "print(fraud_distribution)\n",
    "\n",
    "plt.figure(figsize=(7, 5))\n",
    "sns.countplot(x='is_fraud', data=df, palette=['#3b82f6', '#ef4444'])\n",
    "plt.title('Distribusi Transaksi: Sah vs. Penipuan', fontsize=16)\n",
    "plt.ylabel('Jumlah Transaksi')\n",
    "plt.xlabel('Kelas (0: Sah, 1: Penipuan)')\n",
    "plt.xticks([0, 1], ['Sah', 'Penipuan'])\n",
    "plt.show()"
   ]
  },
  {
   "cell_type": "code",
   "execution_count": null,
   "id": "31671781",
   "metadata": {},
   "outputs": [],
   "source": []
  }
 ],
 "metadata": {
  "kernelspec": {
   "display_name": "diskominfo",
   "language": "python",
   "name": "python3"
  },
  "language_info": {
   "codemirror_mode": {
    "name": "ipython",
    "version": 3
   },
   "file_extension": ".py",
   "mimetype": "text/x-python",
   "name": "python",
   "nbconvert_exporter": "python",
   "pygments_lexer": "ipython3",
   "version": "3.13.2"
  }
 },
 "nbformat": 4,
 "nbformat_minor": 5
}
